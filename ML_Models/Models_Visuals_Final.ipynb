{
  "cells": [
    {
      "cell_type": "markdown",
      "metadata": {
        "id": "GCvidU1jV2_U"
      },
      "source": [
        "Harman Ransi <br>\n",
        "4/6/24 <br>\n",
        "Big Data Tools <br>\n",
        "Final Project\n",
        "___"
      ]
    },
    {
      "cell_type": "markdown",
      "metadata": {
        "id": "gbyadjQwWCgz"
      },
      "source": [
        "# **Fetching Data Live From Redis**"
      ]
    },
    {
      "cell_type": "markdown",
      "metadata": {},
      "source": [
        "\\- In the real world, data is changing all the time <br>\n",
        "\\- Data Scientists need to fetch most current data when modeling <br>\n",
        "\\- RedisDB has function to return all current data as a df <br>\n",
        "\\- As data changes dat be day, data scientists can use function to get most current data, and build the best models possible"
      ]
    },
    {
      "cell_type": "code",
      "execution_count": null,
      "metadata": {},
      "outputs": [],
      "source": [
        "import sys\n",
        "sys.path.insert(0, '../RedisDB')\n",
        "from RedisDB import RedisDB\n",
        "\n",
        "# Create an instance of the RedisDB class\n",
        "redis_db = RedisDB(config_file='../RedisDB/config.yaml')"
      ]
    },
    {
      "cell_type": "code",
      "execution_count": null,
      "metadata": {},
      "outputs": [],
      "source": [
        "# fetching data for modeling purposes\n",
        "df = redis_db.redis_data_to_dataframe()"
      ]
    },
    {
      "cell_type": "markdown",
      "metadata": {
        "id": "P9AGG8YmXbq3"
      },
      "source": [
        "# **XGBoost**"
      ]
    },
    {
      "cell_type": "markdown",
      "metadata": {
        "id": "5TPUSZfAbmKj"
      },
      "source": [
        "\\- Why?... XGBoost is great w/ structured classification tasks (boosted decision trees) <br>\n",
        "\\- Extra Benefits?... tells us feature importance"
      ]
    },
    {
      "cell_type": "markdown",
      "metadata": {
        "id": "CzhaRiyt0jFE"
      },
      "source": [
        "## *XGBoost Model 1*"
      ]
    },
    {
      "cell_type": "markdown",
      "metadata": {
        "id": "nIS2W_vu0sfI"
      },
      "source": [
        "\\- Generic XGBoost with good accuracy, but too many False Positives <br>\n",
        "\\- Data Flaws... heavy class imbalance (only a few positives for Heart Disease) <br>\n",
        "\\- Solution... Use SMOTE to synthetically make more positive readings, weight positive class heavier"
      ]
    },
    {
      "cell_type": "code",
      "execution_count": null,
      "metadata": {
        "colab": {
          "base_uri": "https://localhost:8080/"
        },
        "id": "W4TLasNCtosI",
        "outputId": "ca7d7107-4d64-4df4-9453-5e6ae6ef704a"
      },
      "outputs": [
        {
          "name": "stdout",
          "output_type": "stream",
          "text": [
            "Accuracy: 0.9162588533279132\n",
            "\n",
            "Confusion Matrix:\n",
            "[[58046   470]\n",
            " [ 4886   557]]\n"
          ]
        }
      ],
      "source": [
        "import pandas as pd\n",
        "import xgboost as xgb\n",
        "from sklearn.model_selection import train_test_split\n",
        "from sklearn.metrics import accuracy_score, confusion_matrix\n",
        "\n",
        "# Load the original dataset\n",
        "df = pd.read_csv('/content/drive/MyDrive/CS Foundation Courses/1) Spring 2024/Big Data Tools/Project/redis_data.csv')\n",
        "\n",
        "# Split the data into features (X) and target variable (y)\n",
        "X = df.drop('HeartDisease', axis=1)\n",
        "y = df['HeartDisease']\n",
        "\n",
        "# Split the data into training and testing sets (80% train, 20% test)\n",
        "X_train, X_test, y_train, y_test = train_test_split(X, y, test_size=0.2, random_state=42)\n",
        "\n",
        "# Convert categorical variables to one-hot encoding\n",
        "X_train_encoded = pd.get_dummies(X_train)\n",
        "X_test_encoded = pd.get_dummies(X_test)\n",
        "\n",
        "# Convert target variable to numerical values\n",
        "y_train_encoded = y_train.map({'Yes': 1, 'No': 0})\n",
        "y_test_encoded = y_test.map({'Yes': 1, 'No': 0})\n",
        "\n",
        "# Initialize and train the XGBoost classifier\n",
        "xgb_classifier = xgb.XGBClassifier()\n",
        "xgb_classifier.fit(X_train_encoded, y_train_encoded)\n",
        "\n",
        "# Make predictions on the test set\n",
        "y_pred = xgb_classifier.predict(X_test_encoded)\n",
        "\n",
        "# Calculate accuracy\n",
        "accuracy = accuracy_score(y_test_encoded, y_pred)\n",
        "\n",
        "# Calculate confusion matrix\n",
        "conf_matrix = confusion_matrix(y_test_encoded, y_pred)\n",
        "\n",
        "print(\"Accuracy:\", accuracy)\n",
        "print(\"\\nConfusion Matrix:\")\n",
        "print(conf_matrix)\n",
        "\n",
        "\n"
      ]
    },
    {
      "cell_type": "markdown",
      "metadata": {
        "id": "iFSSHFoR1RZo"
      },
      "source": [
        "## *XGBoost Model 2*"
      ]
    },
    {
      "cell_type": "markdown",
      "metadata": {
        "id": "dDzuykRQbtZl"
      },
      "source": [
        "\\- only 5% lower accuracy, but much less False Positives <br>\n",
        "\\- solved by using SMOTE on positive class and also weighting instances heavier <br>\n",
        "\\- Will do a better job at accurately portraying feature importance for Heart Disease <br>\n"
      ]
    },
    {
      "cell_type": "code",
      "execution_count": null,
      "metadata": {
        "colab": {
          "base_uri": "https://localhost:8080/"
        },
        "id": "_GznfCyrx-uC",
        "outputId": "6d087076-3ce3-4db5-b276-6215fded0d8b"
      },
      "outputs": [
        {
          "name": "stdout",
          "output_type": "stream",
          "text": [
            "Accuracy: 0.8417267311871668\n",
            "\n",
            "Confusion Matrix:\n",
            "[[50766  7750]\n",
            " [ 2373  3070]]\n"
          ]
        }
      ],
      "source": [
        "import pandas as pd\n",
        "import xgboost as xgb\n",
        "from sklearn.model_selection import train_test_split\n",
        "from sklearn.metrics import accuracy_score, confusion_matrix\n",
        "from imblearn.over_sampling import SMOTE\n",
        "\n",
        "# Load the original dataset\n",
        "df = pd.read_csv('/content/drive/MyDrive/CS Foundation Courses/1) Spring 2024/Big Data Tools/Project/redis_data.csv')\n",
        "\n",
        "# Split the data into features (X) and target variable (y)\n",
        "X = df.drop('HeartDisease', axis=1)\n",
        "y = df['HeartDisease']\n",
        "\n",
        "# Convert categorical variables to one-hot encoding\n",
        "X_encoded = pd.get_dummies(X)\n",
        "\n",
        "# Convert target variable to numerical values\n",
        "y_encoded = y.map({'Yes': 1, 'No': 0})\n",
        "\n",
        "# Split the data into training and testing sets (80% train, 20% test)\n",
        "X_train, X_test, y_train, y_test = train_test_split(X_encoded, y_encoded, test_size=0.2, random_state=42)\n",
        "\n",
        "# Apply SMOTE to the training data only\n",
        "smote = SMOTE(sampling_strategy={1: 130000}, random_state=42)\n",
        "X_train_smote, y_train_smote = smote.fit_resample(X_train, y_train)\n",
        "\n",
        "# Initialize and train the XGBoost classifier with increased weight for the positive class\n",
        "xgb_classifier = xgb.XGBClassifier(scale_pos_weight=3.5)\n",
        "xgb_classifier.fit(X_train_smote, y_train_smote)\n",
        "\n",
        "# Make predictions on the original test set\n",
        "y_pred = xgb_classifier.predict(X_test)\n",
        "\n",
        "# Evaluate the model\n",
        "accuracy = accuracy_score(y_test, y_pred)\n",
        "conf_matrix = confusion_matrix(y_test, y_pred)\n",
        "\n",
        "print(\"Accuracy:\", accuracy)\n",
        "print(\"\\nConfusion Matrix:\")\n",
        "print(conf_matrix)"
      ]
    },
    {
      "cell_type": "markdown",
      "metadata": {
        "id": "8Zx7wdOa38Ub"
      },
      "source": [
        "## *Analysis of XGBoost Model 2*"
      ]
    },
    {
      "cell_type": "markdown",
      "metadata": {
        "id": "nsUbbfWZw9tQ"
      },
      "source": [
        "\\- *bad lifestyle habits*, *age*, *diabetes* and *stroke* seem to be strong predictors <br>\n",
        "\\- i.e. smoking=no... probably associated with no heart disease, stroke=yes...probably associate with heart disease<br>"
      ]
    },
    {
      "cell_type": "code",
      "execution_count": null,
      "metadata": {
        "colab": {
          "base_uri": "https://localhost:8080/",
          "height": 537
        },
        "id": "t1Op1euJdIh1",
        "outputId": "b5049d63-e31e-420d-aaf4-65e521a664f3"
      },
      "outputs": [
        {
          "name": "stdout",
          "output_type": "stream",
          "text": [
            "Top most important features:\n"
          ]
        },
        {
          "data": {
            "application/vnd.google.colaboratory.intrinsic+json": {
              "summary": "{\n  \"name\": \"top_10_features\",\n  \"rows\": 50,\n  \"fields\": [\n    {\n      \"column\": \"Feature\",\n      \"properties\": {\n        \"dtype\": \"string\",\n        \"num_unique_values\": 50,\n        \"samples\": [\n          \"AgeCategory_65-69\",\n          \"Race_American Indian/Alaskan Native\",\n          \"AgeCategory_50-54\"\n        ],\n        \"semantic_type\": \"\",\n        \"description\": \"\"\n      }\n    },\n    {\n      \"column\": \"Importance\",\n      \"properties\": {\n        \"dtype\": \"float32\",\n        \"num_unique_values\": 50,\n        \"samples\": [\n          0.029190031811594963,\n          0.004285259172320366,\n          0.012465573847293854\n        ],\n        \"semantic_type\": \"\",\n        \"description\": \"\"\n      }\n    },\n    {\n      \"column\": \"Rank\",\n      \"properties\": {\n        \"dtype\": \"number\",\n        \"std\": 14,\n        \"min\": 1,\n        \"max\": 50,\n        \"num_unique_values\": 50,\n        \"samples\": [\n          14,\n          40,\n          31\n        ],\n        \"semantic_type\": \"\",\n        \"description\": \"\"\n      }\n    }\n  ]\n}",
              "type": "dataframe",
              "variable_name": "top_10_features"
            },
            "text/html": [
              "\n",
              "  <div id=\"df-06d28f7c-41e4-45fb-aaa7-b0dd3d92f1b0\" class=\"colab-df-container\">\n",
              "    <div>\n",
              "<style scoped>\n",
              "    .dataframe tbody tr th:only-of-type {\n",
              "        vertical-align: middle;\n",
              "    }\n",
              "\n",
              "    .dataframe tbody tr th {\n",
              "        vertical-align: top;\n",
              "    }\n",
              "\n",
              "    .dataframe thead th {\n",
              "        text-align: right;\n",
              "    }\n",
              "</style>\n",
              "<table border=\"1\" class=\"dataframe\">\n",
              "  <thead>\n",
              "    <tr style=\"text-align: right;\">\n",
              "      <th></th>\n",
              "      <th>Feature</th>\n",
              "      <th>Importance</th>\n",
              "      <th>Rank</th>\n",
              "    </tr>\n",
              "  </thead>\n",
              "  <tbody>\n",
              "    <tr>\n",
              "      <th>4</th>\n",
              "      <td>Smoking_No</td>\n",
              "      <td>0.066646</td>\n",
              "      <td>1</td>\n",
              "    </tr>\n",
              "    <tr>\n",
              "      <th>11</th>\n",
              "      <td>DiffWalking_Yes</td>\n",
              "      <td>0.052194</td>\n",
              "      <td>2</td>\n",
              "    </tr>\n",
              "    <tr>\n",
              "      <th>25</th>\n",
              "      <td>AgeCategory_75-79</td>\n",
              "      <td>0.050911</td>\n",
              "      <td>3</td>\n",
              "    </tr>\n",
              "    <tr>\n",
              "      <th>9</th>\n",
              "      <td>Stroke_Yes</td>\n",
              "      <td>0.041451</td>\n",
              "      <td>4</td>\n",
              "    </tr>\n",
              "    <tr>\n",
              "      <th>35</th>\n",
              "      <td>Diabetic_Yes</td>\n",
              "      <td>0.041439</td>\n",
              "      <td>5</td>\n",
              "    </tr>\n",
              "    <tr>\n",
              "      <th>42</th>\n",
              "      <td>GenHealth_Poor</td>\n",
              "      <td>0.039984</td>\n",
              "      <td>6</td>\n",
              "    </tr>\n",
              "    <tr>\n",
              "      <th>40</th>\n",
              "      <td>GenHealth_Fair</td>\n",
              "      <td>0.039339</td>\n",
              "      <td>7</td>\n",
              "    </tr>\n",
              "    <tr>\n",
              "      <th>26</th>\n",
              "      <td>AgeCategory_80 or older</td>\n",
              "      <td>0.039197</td>\n",
              "      <td>8</td>\n",
              "    </tr>\n",
              "    <tr>\n",
              "      <th>13</th>\n",
              "      <td>Sex_Male</td>\n",
              "      <td>0.034697</td>\n",
              "      <td>9</td>\n",
              "    </tr>\n",
              "    <tr>\n",
              "      <th>5</th>\n",
              "      <td>Smoking_Yes</td>\n",
              "      <td>0.034472</td>\n",
              "      <td>10</td>\n",
              "    </tr>\n",
              "    <tr>\n",
              "      <th>24</th>\n",
              "      <td>AgeCategory_70-74</td>\n",
              "      <td>0.033932</td>\n",
              "      <td>11</td>\n",
              "    </tr>\n",
              "    <tr>\n",
              "      <th>44</th>\n",
              "      <td>Asthma_No</td>\n",
              "      <td>0.031949</td>\n",
              "      <td>12</td>\n",
              "    </tr>\n",
              "    <tr>\n",
              "      <th>32</th>\n",
              "      <td>Race_White</td>\n",
              "      <td>0.030195</td>\n",
              "      <td>13</td>\n",
              "    </tr>\n",
              "    <tr>\n",
              "      <th>23</th>\n",
              "      <td>AgeCategory_65-69</td>\n",
              "      <td>0.029190</td>\n",
              "      <td>14</td>\n",
              "    </tr>\n",
              "    <tr>\n",
              "      <th>37</th>\n",
              "      <td>PhysicalActivity_No</td>\n",
              "      <td>0.029027</td>\n",
              "      <td>15</td>\n",
              "    </tr>\n",
              "  </tbody>\n",
              "</table>\n",
              "</div>\n",
              "    <div class=\"colab-df-buttons\">\n",
              "\n",
              "  <div class=\"colab-df-container\">\n",
              "    <button class=\"colab-df-convert\" onclick=\"convertToInteractive('df-06d28f7c-41e4-45fb-aaa7-b0dd3d92f1b0')\"\n",
              "            title=\"Convert this dataframe to an interactive table.\"\n",
              "            style=\"display:none;\">\n",
              "\n",
              "  <svg xmlns=\"http://www.w3.org/2000/svg\" height=\"24px\" viewBox=\"0 -960 960 960\">\n",
              "    <path d=\"M120-120v-720h720v720H120Zm60-500h600v-160H180v160Zm220 220h160v-160H400v160Zm0 220h160v-160H400v160ZM180-400h160v-160H180v160Zm440 0h160v-160H620v160ZM180-180h160v-160H180v160Zm440 0h160v-160H620v160Z\"/>\n",
              "  </svg>\n",
              "    </button>\n",
              "\n",
              "  <style>\n",
              "    .colab-df-container {\n",
              "      display:flex;\n",
              "      gap: 12px;\n",
              "    }\n",
              "\n",
              "    .colab-df-convert {\n",
              "      background-color: #E8F0FE;\n",
              "      border: none;\n",
              "      border-radius: 50%;\n",
              "      cursor: pointer;\n",
              "      display: none;\n",
              "      fill: #1967D2;\n",
              "      height: 32px;\n",
              "      padding: 0 0 0 0;\n",
              "      width: 32px;\n",
              "    }\n",
              "\n",
              "    .colab-df-convert:hover {\n",
              "      background-color: #E2EBFA;\n",
              "      box-shadow: 0px 1px 2px rgba(60, 64, 67, 0.3), 0px 1px 3px 1px rgba(60, 64, 67, 0.15);\n",
              "      fill: #174EA6;\n",
              "    }\n",
              "\n",
              "    .colab-df-buttons div {\n",
              "      margin-bottom: 4px;\n",
              "    }\n",
              "\n",
              "    [theme=dark] .colab-df-convert {\n",
              "      background-color: #3B4455;\n",
              "      fill: #D2E3FC;\n",
              "    }\n",
              "\n",
              "    [theme=dark] .colab-df-convert:hover {\n",
              "      background-color: #434B5C;\n",
              "      box-shadow: 0px 1px 3px 1px rgba(0, 0, 0, 0.15);\n",
              "      filter: drop-shadow(0px 1px 2px rgba(0, 0, 0, 0.3));\n",
              "      fill: #FFFFFF;\n",
              "    }\n",
              "  </style>\n",
              "\n",
              "    <script>\n",
              "      const buttonEl =\n",
              "        document.querySelector('#df-06d28f7c-41e4-45fb-aaa7-b0dd3d92f1b0 button.colab-df-convert');\n",
              "      buttonEl.style.display =\n",
              "        google.colab.kernel.accessAllowed ? 'block' : 'none';\n",
              "\n",
              "      async function convertToInteractive(key) {\n",
              "        const element = document.querySelector('#df-06d28f7c-41e4-45fb-aaa7-b0dd3d92f1b0');\n",
              "        const dataTable =\n",
              "          await google.colab.kernel.invokeFunction('convertToInteractive',\n",
              "                                                    [key], {});\n",
              "        if (!dataTable) return;\n",
              "\n",
              "        const docLinkHtml = 'Like what you see? Visit the ' +\n",
              "          '<a target=\"_blank\" href=https://colab.research.google.com/notebooks/data_table.ipynb>data table notebook</a>'\n",
              "          + ' to learn more about interactive tables.';\n",
              "        element.innerHTML = '';\n",
              "        dataTable['output_type'] = 'display_data';\n",
              "        await google.colab.output.renderOutput(dataTable, element);\n",
              "        const docLink = document.createElement('div');\n",
              "        docLink.innerHTML = docLinkHtml;\n",
              "        element.appendChild(docLink);\n",
              "      }\n",
              "    </script>\n",
              "  </div>\n",
              "\n",
              "\n",
              "<div id=\"df-7f98cd31-fbe3-4ad5-93de-b71c452212a7\">\n",
              "  <button class=\"colab-df-quickchart\" onclick=\"quickchart('df-7f98cd31-fbe3-4ad5-93de-b71c452212a7')\"\n",
              "            title=\"Suggest charts\"\n",
              "            style=\"display:none;\">\n",
              "\n",
              "<svg xmlns=\"http://www.w3.org/2000/svg\" height=\"24px\"viewBox=\"0 0 24 24\"\n",
              "     width=\"24px\">\n",
              "    <g>\n",
              "        <path d=\"M19 3H5c-1.1 0-2 .9-2 2v14c0 1.1.9 2 2 2h14c1.1 0 2-.9 2-2V5c0-1.1-.9-2-2-2zM9 17H7v-7h2v7zm4 0h-2V7h2v10zm4 0h-2v-4h2v4z\"/>\n",
              "    </g>\n",
              "</svg>\n",
              "  </button>\n",
              "\n",
              "<style>\n",
              "  .colab-df-quickchart {\n",
              "      --bg-color: #E8F0FE;\n",
              "      --fill-color: #1967D2;\n",
              "      --hover-bg-color: #E2EBFA;\n",
              "      --hover-fill-color: #174EA6;\n",
              "      --disabled-fill-color: #AAA;\n",
              "      --disabled-bg-color: #DDD;\n",
              "  }\n",
              "\n",
              "  [theme=dark] .colab-df-quickchart {\n",
              "      --bg-color: #3B4455;\n",
              "      --fill-color: #D2E3FC;\n",
              "      --hover-bg-color: #434B5C;\n",
              "      --hover-fill-color: #FFFFFF;\n",
              "      --disabled-bg-color: #3B4455;\n",
              "      --disabled-fill-color: #666;\n",
              "  }\n",
              "\n",
              "  .colab-df-quickchart {\n",
              "    background-color: var(--bg-color);\n",
              "    border: none;\n",
              "    border-radius: 50%;\n",
              "    cursor: pointer;\n",
              "    display: none;\n",
              "    fill: var(--fill-color);\n",
              "    height: 32px;\n",
              "    padding: 0;\n",
              "    width: 32px;\n",
              "  }\n",
              "\n",
              "  .colab-df-quickchart:hover {\n",
              "    background-color: var(--hover-bg-color);\n",
              "    box-shadow: 0 1px 2px rgba(60, 64, 67, 0.3), 0 1px 3px 1px rgba(60, 64, 67, 0.15);\n",
              "    fill: var(--button-hover-fill-color);\n",
              "  }\n",
              "\n",
              "  .colab-df-quickchart-complete:disabled,\n",
              "  .colab-df-quickchart-complete:disabled:hover {\n",
              "    background-color: var(--disabled-bg-color);\n",
              "    fill: var(--disabled-fill-color);\n",
              "    box-shadow: none;\n",
              "  }\n",
              "\n",
              "  .colab-df-spinner {\n",
              "    border: 2px solid var(--fill-color);\n",
              "    border-color: transparent;\n",
              "    border-bottom-color: var(--fill-color);\n",
              "    animation:\n",
              "      spin 1s steps(1) infinite;\n",
              "  }\n",
              "\n",
              "  @keyframes spin {\n",
              "    0% {\n",
              "      border-color: transparent;\n",
              "      border-bottom-color: var(--fill-color);\n",
              "      border-left-color: var(--fill-color);\n",
              "    }\n",
              "    20% {\n",
              "      border-color: transparent;\n",
              "      border-left-color: var(--fill-color);\n",
              "      border-top-color: var(--fill-color);\n",
              "    }\n",
              "    30% {\n",
              "      border-color: transparent;\n",
              "      border-left-color: var(--fill-color);\n",
              "      border-top-color: var(--fill-color);\n",
              "      border-right-color: var(--fill-color);\n",
              "    }\n",
              "    40% {\n",
              "      border-color: transparent;\n",
              "      border-right-color: var(--fill-color);\n",
              "      border-top-color: var(--fill-color);\n",
              "    }\n",
              "    60% {\n",
              "      border-color: transparent;\n",
              "      border-right-color: var(--fill-color);\n",
              "    }\n",
              "    80% {\n",
              "      border-color: transparent;\n",
              "      border-right-color: var(--fill-color);\n",
              "      border-bottom-color: var(--fill-color);\n",
              "    }\n",
              "    90% {\n",
              "      border-color: transparent;\n",
              "      border-bottom-color: var(--fill-color);\n",
              "    }\n",
              "  }\n",
              "</style>\n",
              "\n",
              "  <script>\n",
              "    async function quickchart(key) {\n",
              "      const quickchartButtonEl =\n",
              "        document.querySelector('#' + key + ' button');\n",
              "      quickchartButtonEl.disabled = true;  // To prevent multiple clicks.\n",
              "      quickchartButtonEl.classList.add('colab-df-spinner');\n",
              "      try {\n",
              "        const charts = await google.colab.kernel.invokeFunction(\n",
              "            'suggestCharts', [key], {});\n",
              "      } catch (error) {\n",
              "        console.error('Error during call to suggestCharts:', error);\n",
              "      }\n",
              "      quickchartButtonEl.classList.remove('colab-df-spinner');\n",
              "      quickchartButtonEl.classList.add('colab-df-quickchart-complete');\n",
              "    }\n",
              "    (() => {\n",
              "      let quickchartButtonEl =\n",
              "        document.querySelector('#df-7f98cd31-fbe3-4ad5-93de-b71c452212a7 button');\n",
              "      quickchartButtonEl.style.display =\n",
              "        google.colab.kernel.accessAllowed ? 'block' : 'none';\n",
              "    })();\n",
              "  </script>\n",
              "</div>\n",
              "    </div>\n",
              "  </div>\n"
            ],
            "text/plain": [
              "                    Feature  Importance  Rank\n",
              "4                Smoking_No    0.066646     1\n",
              "11          DiffWalking_Yes    0.052194     2\n",
              "25        AgeCategory_75-79    0.050911     3\n",
              "9                Stroke_Yes    0.041451     4\n",
              "35             Diabetic_Yes    0.041439     5\n",
              "42           GenHealth_Poor    0.039984     6\n",
              "40           GenHealth_Fair    0.039339     7\n",
              "26  AgeCategory_80 or older    0.039197     8\n",
              "13                 Sex_Male    0.034697     9\n",
              "5               Smoking_Yes    0.034472    10\n",
              "24        AgeCategory_70-74    0.033932    11\n",
              "44                Asthma_No    0.031949    12\n",
              "32               Race_White    0.030195    13\n",
              "23        AgeCategory_65-69    0.029190    14\n",
              "37      PhysicalActivity_No    0.029027    15"
            ]
          },
          "execution_count": 14,
          "metadata": {},
          "output_type": "execute_result"
        }
      ],
      "source": [
        "# Get feature importances from the trained model\n",
        "feature_importances = xgb_classifier.feature_importances_\n",
        "\n",
        "# Create a DataFrame to store feature names and their importances\n",
        "feature_importance_df = pd.DataFrame({'Feature': X_train.columns, 'Importance': feature_importances})\n",
        "\n",
        "# Sort the DataFrame by importance values in descending order\n",
        "feature_importance_df = feature_importance_df.sort_values(by='Importance', ascending=False)\n",
        "\n",
        "# Display the top most important features\n",
        "feature_importance_df['Rank'] = range(1, len(feature_importance_df) + 1)\n",
        "\n",
        "# Display the top most important features with their ranks\n",
        "top_10_features = feature_importance_df\n",
        "print(\"Top most important features:\")\n",
        "top_10_features.head(15)\n",
        "\n"
      ]
    },
    {
      "cell_type": "markdown",
      "metadata": {
        "id": "ZaAxoV5ISggE"
      },
      "source": [
        "# **Logistic Regression Model**"
      ]
    },
    {
      "cell_type": "markdown",
      "metadata": {
        "id": "NRisjQuYb2nW"
      },
      "source": [
        "\\- Why?... LogReg is also good with structued classification tasks <br>\n",
        "\\- Extra Benefits... eigenvalues tell us importance of variable <br>\n",
        "\\- i.e. tells us importance of \"smoking\" variable as a whole (not just \"smoking_no\")"
      ]
    },
    {
      "cell_type": "markdown",
      "metadata": {
        "id": "hCJWYYDbKoAf"
      },
      "source": [
        "## *LogReg Model 1*"
      ]
    },
    {
      "cell_type": "markdown",
      "metadata": {
        "id": "wHbONM8GK1-O"
      },
      "source": [
        "\\- used SMOTE again, logreg handles class imbalance well, but to be safe <br>\n",
        "\\- 78% accuracy, similar results to XGBoost model <br>\n",
        "\\- advantage... eigenvals tell us variable importance <br>"
      ]
    },
    {
      "cell_type": "code",
      "execution_count": 15,
      "metadata": {
        "colab": {
          "base_uri": "https://localhost:8080/"
        },
        "id": "mRdMxz25SkWK",
        "outputId": "fbba648d-4082-4ed6-cb44-0c796d7081a6"
      },
      "outputs": [
        {
          "name": "stdout",
          "output_type": "stream",
          "text": [
            "Accuracy: 0.7814537438046248\n",
            "Confusion Matrix:\n",
            "[[46813 11703]\n",
            " [ 2275  3168]]\n"
          ]
        }
      ],
      "source": [
        "import pandas as pd\n",
        "from sklearn.model_selection import train_test_split\n",
        "from sklearn.metrics import accuracy_score, confusion_matrix\n",
        "from imblearn.over_sampling import SMOTE\n",
        "from sklearn.linear_model import LogisticRegression\n",
        "\n",
        "from sklearn.preprocessing import LabelEncoder\n",
        "\n",
        "# Load the original dataset\n",
        "df = pd.read_csv('/content/drive/MyDrive/CS Foundation Courses/1) Spring 2024/Big Data Tools/Project/redis_data.csv')\n",
        "\n",
        "# Split the data into features (X) and target variable (y)\n",
        "X = df.drop('HeartDisease', axis=1)\n",
        "y = df['HeartDisease']\n",
        "\n",
        "# Create a LabelEncoder object\n",
        "le = LabelEncoder()\n",
        "\n",
        "# Loop over each column in X\n",
        "for col in X.columns:\n",
        "    # Only encode columns with object datatype\n",
        "    if X[col].dtype == 'object':\n",
        "        # Fit and transform the column with LabelEncoder\n",
        "        X[col] = le.fit_transform(X[col])\n",
        "\n",
        "# Encode the target variable\n",
        "y = le.fit_transform(y)\n",
        "\n",
        "# Split the data into training and test sets\n",
        "X_train, X_test, y_train, y_test = train_test_split(X, y, test_size=0.2, random_state=42)\n",
        "\n",
        "# Define the SMOTE instance\n",
        "smote = SMOTE(sampling_strategy={1: 130000}, random_state=42)\n",
        "\n",
        "# Fit SMOTE to the training data\n",
        "X_train_smote, y_train_smote = smote.fit_resample(X_train, y_train)\n",
        "\n",
        "# Initialize the Logistic Regression model with class weight\n",
        "model = LogisticRegression(class_weight={1: 1.2}, max_iter=1000)\n",
        "\n",
        "# Fit the model to the SMOTE training data\n",
        "model.fit(X_train_smote, y_train_smote)\n",
        "\n",
        "# Make predictions on the test set\n",
        "predictions = model.predict(X_test)\n",
        "\n",
        "# Calculate the accuracy of the model\n",
        "accuracy = accuracy_score(y_test, predictions)\n",
        "\n",
        "# Print the accuracy\n",
        "print(f'Accuracy: {accuracy}')\n",
        "\n",
        "# Print the confusion matrix\n",
        "cm = confusion_matrix(y_test, predictions)\n",
        "print('Confusion Matrix:')\n",
        "print(cm)\n"
      ]
    },
    {
      "cell_type": "markdown",
      "metadata": {
        "id": "ikfZ2mXvKu1L"
      },
      "source": [
        "## *Analysis of LogReg Model 1*"
      ]
    },
    {
      "cell_type": "markdown",
      "metadata": {
        "id": "u8T5dvxwLSBE"
      },
      "source": [
        "\\- eigenvals tell us importance of each variable on target <br>\n",
        "\\- lines up with most of the factors in the xgboost model <br>\n",
        "\\- only big difference is sex being a big factor <br>\n",
        "\\- ^ scientific research suggests this is a big factor, so this is a good sign"
      ]
    },
    {
      "cell_type": "code",
      "execution_count": 20,
      "metadata": {
        "colab": {
          "base_uri": "https://localhost:8080/"
        },
        "id": "Dr5mPX5PVa2l",
        "outputId": "e14b0bd1-9be3-492a-caf1-e58df0bb7525"
      },
      "outputs": [
        {
          "name": "stdout",
          "output_type": "stream",
          "text": [
            "+------------------+---------------+\n",
            "| Feature          |   Coefficient |\n",
            "|------------------+---------------|\n",
            "| Sex              |     0.331262  |\n",
            "| Stroke           |     0.321945  |\n",
            "| AgeCategory      |     0.31425   |\n",
            "| Diabetic         |     0.272728  |\n",
            "| Smoking          |     0.133424  |\n",
            "| PhysicalHealth   |     0.0393398 |\n",
            "| Race             |     0.0238475 |\n",
            "| BMI              |     0.0236575 |\n",
            "| MentalHealth     |     0.0156266 |\n",
            "| SleepTime        |    -0.0384139 |\n",
            "| GenHealth        |    -0.103812  |\n",
            "| DiffWalking      |    -0.302903  |\n",
            "| KidneyDisease    |    -0.312027  |\n",
            "| SkinCancer       |    -0.461199  |\n",
            "| Asthma           |    -0.617405  |\n",
            "| PhysicalActivity |    -0.704137  |\n",
            "| AlcoholDrinking  |    -1.61587   |\n",
            "+------------------+---------------+\n"
          ]
        }
      ],
      "source": [
        "from tabulate import tabulate\n",
        "\n",
        "# Transpose the DataFrame for easier manipulation\n",
        "coef_df_transposed = coef_df.transpose()\n",
        "\n",
        "# Reset the index to get the features as a column\n",
        "coef_df_transposed.reset_index(inplace=True)\n",
        "\n",
        "# Rename the columns\n",
        "coef_df_transposed.columns = ['Feature', 'Coefficient']\n",
        "\n",
        "# Sort the DataFrame by the coefficient value in descending order\n",
        "coef_df_transposed.sort_values(by='Coefficient', ascending=False, inplace=True)\n",
        "\n",
        "# Print the DataFrame using tabulate\n",
        "print(tabulate(coef_df_transposed, headers='keys', tablefmt='psql', showindex=False))\n",
        "\n"
      ]
    },
    {
      "cell_type": "markdown",
      "metadata": {
        "id": "VqiymzBFLxMz"
      },
      "source": [
        "# **Visual of Data - Correlation Heatmap of RECENT DATA**"
      ]
    },
    {
      "cell_type": "markdown",
      "metadata": {},
      "source": [
        "\\- To see how things shift, look @ REAL DAT"
      ]
    },
    {
      "cell_type": "code",
      "execution_count": 1,
      "metadata": {},
      "outputs": [
        {
          "data": {
            "image/png": "[encoded data removed]",
            "text/plain": [
              "<Figure size 1000x800 with 2 Axes>"
            ]
          },
          "metadata": {},
          "output_type": "display_data"
        },
        {
          "data": {
            "text/plain": [
              "<Axes: title={'center': 'Correlation Heatmap of Recent Data'}, xlabel='Variables', ylabel='Variables'>"
            ]
          },
          "execution_count": 1,
          "metadata": {},
          "output_type": "execute_result"
        }
      ],
      "source": [
        "import sys\n",
        "sys.path.insert(0, '../RedisDB')\n",
        "from RedisDB import RedisDB\n",
        "\n",
        "# Create an instance of the RedisDB class\n",
        "redis_db = RedisDB(config_file='../RedisDB/config.yaml')\n",
        "redis_db.heatmap_using_recent_data()"
      ]
    }
  ],
  "metadata": {
    "colab": {
      "provenance": []
    },
    "kernelspec": {
      "display_name": "Python 3",
      "name": "python3"
    },
    "language_info": {
      "codemirror_mode": {
        "name": "ipython",
        "version": 3
      },
      "file_extension": ".py",
      "mimetype": "text/x-python",
      "name": "python",
      "nbconvert_exporter": "python",
      "pygments_lexer": "ipython3",
      "version": "3.12.1"
    }
  },
  "nbformat": 4,
  "nbformat_minor": 0
}
